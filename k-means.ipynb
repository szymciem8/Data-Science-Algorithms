{
 "cells": [
  {
   "cell_type": "markdown",
   "metadata": {},
   "source": [
    "# K-Means Algorithm"
   ]
  },
  {
   "cell_type": "code",
   "execution_count": 1,
   "metadata": {},
   "outputs": [],
   "source": [
    "import numpy as np\n",
    "import matplotlib.pyplot as plt\n",
    "import math"
   ]
  },
  {
   "cell_type": "markdown",
   "metadata": {},
   "source": [
    "## 1-D Clusterization"
   ]
  },
  {
   "cell_type": "code",
   "execution_count": 5,
   "metadata": {},
   "outputs": [],
   "source": [
    "values = np.zeros(20)\n",
    "x1 = np.random.normal(loc=3, scale=1, size=(20,))\n",
    "x2 = np.random.normal(loc=12, scale=1, size=(20,))\n",
    "x3 = np.random.normal(loc=18, scale=1, size=(20,))\n",
    "\n",
    "X = np.array([])\n",
    "X = np.append(X,[x1, x2, x3])\n"
   ]
  },
  {
   "cell_type": "code",
   "execution_count": 11,
   "metadata": {},
   "outputs": [
    {
     "data": {
      "text/plain": [
       "array([ 1.16170761,  2.94238239,  4.63562359,  1.20173943,  3.28014522,\n",
       "        2.29977188,  3.23400072,  2.61600092,  2.94639426,  1.75954901,\n",
       "        3.28616457,  2.73238667,  0.14430209,  3.82285164,  0.83735952,\n",
       "        2.99111986,  1.8674432 ,  2.80846822,  3.13375915,  3.79933849,\n",
       "       13.49665683, 11.24392308, 10.17197869, 13.22639671, 12.94885096,\n",
       "       12.30549864, 11.38140975, 12.85322043, 10.619485  , 11.15884202,\n",
       "       12.17706794, 11.67110683,  8.73252274, 11.35711888, 13.53178108,\n",
       "       11.93499199, 10.76434245, 11.82400737, 12.43505601, 11.43268094,\n",
       "       17.63239308, 19.2838207 , 19.58554847, 18.19937308, 18.14185553,\n",
       "       17.99634235, 18.53514944, 18.49561433, 17.45310469, 19.45711157,\n",
       "       17.51230423, 18.76566235, 16.66201242, 18.17897734, 17.60306532,\n",
       "       17.11539487, 17.93560892, 18.09054248, 17.84464888, 18.04440057])"
      ]
     },
     "execution_count": 11,
     "metadata": {},
     "output_type": "execute_result"
    }
   ],
   "source": [
    "X"
   ]
  },
  {
   "cell_type": "code",
   "execution_count": 4,
   "metadata": {},
   "outputs": [
    {
     "data": {
      "text/plain": [
       "[<matplotlib.lines.Line2D at 0x7f5b5263dee0>]"
      ]
     },
     "execution_count": 4,
     "metadata": {},
     "output_type": "execute_result"
    },
    {
     "data": {
      "image/png": "[encoded data removed]",
      "text/plain": [
       "<Figure size 432x288 with 1 Axes>"
      ]
     },
     "metadata": {
      "needs_background": "light"
     },
     "output_type": "display_data"
    }
   ],
   "source": [
    "plt.plot(x1, values, 'o')\n",
    "plt.plot(x2, values, 'o')\n",
    "plt.plot(x3, values, 'o')\n",
    "# values = np.zeros(60)\n",
    "# plt.plot(X, values, 'o')"
   ]
  },
  {
   "cell_type": "code",
   "execution_count": 6,
   "metadata": {},
   "outputs": [],
   "source": [
    "def wcss(cluster_points, points):\n",
    "    wcss_value=0\n",
    "\n",
    "    for point in points:\n",
    "        for i in range(len(cluster_points)):\n",
    "            if i == 0:  \n",
    "                min_val = abs(point-cluster_points[i])\n",
    "\n",
    "            else:\n",
    "                temp = abs(point-cluster_points[i])\n",
    "                if temp < min_val:\n",
    "                    min_val = temp\n",
    "\n",
    "        wcss_value += min_val**2\n",
    "\n",
    "    return wcss_value"
   ]
  },
  {
   "cell_type": "code",
   "execution_count": 12,
   "metadata": {},
   "outputs": [],
   "source": [
    "# Elbow method\n",
    "\n",
    "def elbow_method(points, k_max):\n",
    "\n",
    "    WCSS=[]\n",
    "    cluster_points = np.array([])\n",
    "    \n",
    "    for i in range(k_max):\n",
    "        cluster_points = np.append(cluster_points, np.random.random_integers(math.floor(min(points)), math.ceil(max(points)), 1))\n",
    "        WCSS.append(wcss(cluster_points, points))\n",
    "\n",
    "    return WCSS"
   ]
  },
  {
   "cell_type": "code",
   "execution_count": 20,
   "metadata": {},
   "outputs": [
    {
     "name": "stdout",
     "output_type": "stream",
     "text": [
      "[4115.18622788028, 4060.961780825741, 4032.2006189537947, 997.1481894833348, 987.7846166539949]\n"
     ]
    },
    {
     "name": "stderr",
     "output_type": "stream",
     "text": [
      "/tmp/ipykernel_25827/3928080801.py:9: DeprecationWarning: This function is deprecated. Please call randint(0, 20 + 1) instead\n",
      "  cluster_points = np.append(cluster_points, np.random.random_integers(math.floor(min(points)), math.ceil(max(points)), 1))\n"
     ]
    },
    {
     "data": {
      "text/plain": [
       "[<matplotlib.lines.Line2D at 0x7f5b521f0820>]"
      ]
     },
     "execution_count": 20,
     "metadata": {},
     "output_type": "execute_result"
    },
    {
     "data": {
      "image/png": "[encoded data removed]",
      "text/plain": [
       "<Figure size 432x288 with 1 Axes>"
      ]
     },
     "metadata": {
      "needs_background": "light"
     },
     "output_type": "display_data"
    }
   ],
   "source": [
    "print(elbow_method(X, 5))\n",
    "\n",
    "k_values = elbow_method(X,6)\n",
    "plt.plot(k_values)"
   ]
  },
  {
   "cell_type": "code",
   "execution_count": 139,
   "metadata": {},
   "outputs": [
    {
     "name": "stdout",
     "output_type": "stream",
     "text": [
      "[5400.632537401554, 3152.218679794171, 779.2238294083895, 380.85870000836314, 47.26507296886593, 199.56973969844648, 66.11894192789377, 90.31550947823301, 218.73065910814512, 163.97622535994927, 246.23277814121772, 34.994161088596314, 28.338569155382206, 130.83519533908463, 85.70642845737314, 21.766696622115383, 25.754538895543796, 24.49904241501222, 28.820628608599883]\n"
     ]
    }
   ],
   "source": [
    "print(k_values)"
   ]
  },
  {
   "cell_type": "code",
   "execution_count": 21,
   "metadata": {},
   "outputs": [],
   "source": [
    "def avg(cluster_points, clusters):\n",
    "    for i in range(len(clusters)):\n",
    "        cluster_points[i] = sum(clusters[i])/len(clusters[i])\n",
    "\n",
    "    return cluster_points"
   ]
  },
  {
   "cell_type": "code",
   "execution_count": 22,
   "metadata": {},
   "outputs": [
    {
     "name": "stderr",
     "output_type": "stream",
     "text": [
      "/tmp/ipykernel_25827/3017929277.py:2: DeprecationWarning: This function is deprecated. Please call randint(0, 20 + 1) instead\n",
      "  cluster_points = np.random.random_integers(math.floor(min(X)), math.ceil(max(X)), k)\n"
     ]
    }
   ],
   "source": [
    "k=3\n",
    "cluster_points = np.random.random_integers(math.floor(min(X)), math.ceil(max(X)), k)\n",
    "clusters = []\n",
    "\n",
    "for i in range(3):\n",
    "    clusters.append([])\n",
    "N = 10\n",
    "for j in range(N):\n",
    "    for x in X:\n",
    "        cluster_id=0\n",
    "        for i in range(len(cluster_points)):\n",
    "            if i == 0:  \n",
    "                    min_val = abs(x-cluster_points[i])\n",
    "                    cluster_id = i\n",
    "            else:\n",
    "                temp = abs(x-cluster_points[i])\n",
    "                if temp < min_val:\n",
    "                    min_val = temp\n",
    "                    cluster_id = i\n",
    "\n",
    "        clusters[cluster_id].append(x)\n",
    "\n",
    "    cluster_points = avg(cluster_points, clusters)\n",
    "\n",
    "\n",
    "\n",
    "# print(clusters)"
   ]
  },
  {
   "cell_type": "code",
   "execution_count": 23,
   "metadata": {},
   "outputs": [
    {
     "name": "stdout",
     "output_type": "stream",
     "text": [
      "209\n"
     ]
    },
    {
     "data": {
      "text/plain": [
       "[<matplotlib.lines.Line2D at 0x7f5b521e34c0>]"
      ]
     },
     "execution_count": 23,
     "metadata": {},
     "output_type": "execute_result"
    },
    {
     "data": {
      "image/png": "[encoded data removed]",
      "text/plain": [
       "<Figure size 432x288 with 1 Axes>"
      ]
     },
     "metadata": {
      "needs_background": "light"
     },
     "output_type": "display_data"
    }
   ],
   "source": [
    "print(len(clusters[0]))\n",
    "plt.plot(clusters[0], np.zeros(len(clusters[0])), 'o')\n",
    "plt.plot(clusters[1], np.zeros(len(clusters[1])), 'o')\n",
    "plt.plot(clusters[2], np.zeros(len(clusters[2])), 'o')"
   ]
  },
  {
   "cell_type": "markdown",
   "metadata": {},
   "source": [
    "## 2-D Clusterization"
   ]
  },
  {
   "cell_type": "code",
   "execution_count": null,
   "metadata": {},
   "outputs": [],
   "source": []
  }
 ],
 "metadata": {
  "interpreter": {
   "hash": "916dbcbb3f70747c44a77c7bcd40155683ae19c65e1c03b4aa3499c5328201f1"
  },
  "kernelspec": {
   "display_name": "Python 3.8.10 64-bit",
   "language": "python",
   "name": "python3"
  },
  "language_info": {
   "codemirror_mode": {
    "name": "ipython",
    "version": 3
   },
   "file_extension": ".py",
   "mimetype": "text/x-python",
   "name": "python",
   "nbconvert_exporter": "python",
   "pygments_lexer": "ipython3",
   "version": "3.9.7"
  },
  "orig_nbformat": 4
 },
 "nbformat": 4,
 "nbformat_minor": 2
}
