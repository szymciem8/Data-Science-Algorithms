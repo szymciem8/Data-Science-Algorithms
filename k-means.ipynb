{
 "cells": [
  {
   "cell_type": "code",
   "execution_count": 52,
   "metadata": {},
   "outputs": [],
   "source": [
    "import numpy as np\n",
    "import matplotlib.pyplot as plt\n",
    "import math"
   ]
  },
  {
   "cell_type": "code",
   "execution_count": 50,
   "metadata": {},
   "outputs": [
    {
     "name": "stdout",
     "output_type": "stream",
     "text": [
      "[ 1.78334935  4.26209614  1.69100997  4.02655399  3.55928708  2.97030429\n",
      "  3.64257537  1.96520258  3.12282073  2.61925607  0.67810843  3.02962399\n",
      "  2.84567411  2.30722441  0.53903083  1.94528323  3.93676792  2.31405934\n",
      "  2.95266092  5.04439444 12.60190057 10.87999097 12.72256212 11.90902715\n",
      " 10.77428479 13.15834496 12.26518427 10.5348409  12.36790163 13.13616856\n",
      " 13.35310195 11.98390485 10.91400904 12.70697728 12.74320563 11.891102\n",
      " 13.04392249 13.05318802 12.62599404 12.34462855 17.51836738 17.57829117\n",
      " 18.54861543 17.69190482 17.45060172 17.47103265 17.72304403 16.23172968\n",
      " 17.97868897 19.01916915 17.31276289 18.01012454 18.92927113 18.65440065\n",
      " 17.37473686 18.15881289 19.11878704 18.00058273 19.11069692 19.43202144]\n"
     ]
    }
   ],
   "source": [
    "values = np.zeros(20)\n",
    "x1 = np.random.normal(loc=3, scale=1, size=(20,))\n",
    "x2 = np.random.normal(loc=12, scale=1, size=(20,))\n",
    "x3 = np.random.normal(loc=18, scale=1, size=(20,))\n",
    "\n",
    "X = np.array([])\n",
    "X = np.append(X,[x1, x2, x3])\n",
    "\n",
    "print(X)"
   ]
  },
  {
   "cell_type": "code",
   "execution_count": 51,
   "metadata": {},
   "outputs": [
    {
     "data": {
      "text/plain": [
       "[<matplotlib.lines.Line2D at 0x7fd9877b82e0>]"
      ]
     },
     "execution_count": 51,
     "metadata": {},
     "output_type": "execute_result"
    },
    {
     "data": {
      "image/png": "[encoded data removed]",
      "text/plain": [
       "<Figure size 432x288 with 1 Axes>"
      ]
     },
     "metadata": {
      "needs_background": "light"
     },
     "output_type": "display_data"
    }
   ],
   "source": [
    "plt.plot(x1, values, 'o')\n",
    "plt.plot(x2, values, 'o')\n",
    "plt.plot(x3, values, 'o')\n",
    "# values = np.zeros(60)\n",
    "# plt.plot(X, values, 'o')"
   ]
  },
  {
   "cell_type": "code",
   "execution_count": 126,
   "metadata": {},
   "outputs": [],
   "source": [
    "# Elbow method\n",
    "\n",
    "def elbow_method(k, points):\n",
    "\n",
    "    WCSS=0\n",
    "    cluster_points = np.random.random_integers(math.floor(min(points)), math.ceil(max(points)), k)\n",
    "\n",
    "    for point in points:\n",
    "        for i in range(len(cluster_points)):\n",
    "            if i == 0:  \n",
    "                min_val = abs(point-cluster_points[i])\n",
    "\n",
    "            else:\n",
    "                temp = abs(point-cluster_points[i])\n",
    "                if temp < min_val:\n",
    "                    min_val = temp\n",
    "\n",
    "        WCSS += min_val**2\n",
    "\n",
    "\n",
    "    # print(cluster_points)\n",
    "    # print(WCSS)\n",
    "\n",
    "    return WCSS"
   ]
  },
  {
   "cell_type": "code",
   "execution_count": 138,
   "metadata": {},
   "outputs": [
    {
     "name": "stdout",
     "output_type": "stream",
     "text": [
      "4499.569698020919\n"
     ]
    },
    {
     "name": "stderr",
     "output_type": "stream",
     "text": [
      "/tmp/ipykernel_18806/107002287.py:6: DeprecationWarning: This function is deprecated. Please call randint(0, 20 + 1) instead\n",
      "  cluster_points = np.random.random_integers(math.floor(min(points)), math.ceil(max(points)), k)\n"
     ]
    },
    {
     "data": {
      "text/plain": [
       "[<matplotlib.lines.Line2D at 0x7fd98739f6d0>]"
      ]
     },
     "execution_count": 138,
     "metadata": {},
     "output_type": "execute_result"
    },
    {
     "data": {
      "image/png": "[encoded data removed]",
      "text/plain": [
       "<Figure size 432x288 with 1 Axes>"
      ]
     },
     "metadata": {
      "needs_background": "light"
     },
     "output_type": "display_data"
    }
   ],
   "source": [
    "print(elbow_method(3, X))\n",
    "\n",
    "k_values = [elbow_method(i, X) for i in range(1,20)]\n",
    "plt.plot(k_values)"
   ]
  },
  {
   "cell_type": "code",
   "execution_count": 139,
   "metadata": {},
   "outputs": [
    {
     "name": "stdout",
     "output_type": "stream",
     "text": [
      "[5400.632537401554, 3152.218679794171, 779.2238294083895, 380.85870000836314, 47.26507296886593, 199.56973969844648, 66.11894192789377, 90.31550947823301, 218.73065910814512, 163.97622535994927, 246.23277814121772, 34.994161088596314, 28.338569155382206, 130.83519533908463, 85.70642845737314, 21.766696622115383, 25.754538895543796, 24.49904241501222, 28.820628608599883]\n"
     ]
    }
   ],
   "source": [
    "print(k_values)"
   ]
  },
  {
   "cell_type": "code",
   "execution_count": 152,
   "metadata": {},
   "outputs": [],
   "source": [
    "def avg(cluster_points, clusters):\n",
    "    for i in range(len(clusters)):\n",
    "        cluster_points[i] = sum(clusters[i])/len(clusters[i])\n",
    "\n",
    "    return cluster_points"
   ]
  },
  {
   "cell_type": "code",
   "execution_count": 172,
   "metadata": {},
   "outputs": [
    {
     "name": "stderr",
     "output_type": "stream",
     "text": [
      "/tmp/ipykernel_18806/3017929277.py:2: DeprecationWarning: This function is deprecated. Please call randint(0, 20 + 1) instead\n",
      "  cluster_points = np.random.random_integers(math.floor(min(X)), math.ceil(max(X)), k)\n"
     ]
    }
   ],
   "source": [
    "k=3\n",
    "cluster_points = np.random.random_integers(math.floor(min(X)), math.ceil(max(X)), k)\n",
    "clusters = []\n",
    "\n",
    "for i in range(3):\n",
    "    clusters.append([])\n",
    "N = 10\n",
    "for j in range(N):\n",
    "    for x in X:\n",
    "        cluster_id=0\n",
    "        for i in range(len(cluster_points)):\n",
    "            if i == 0:  \n",
    "                    min_val = abs(x-cluster_points[i])\n",
    "                    cluster_id = i\n",
    "            else:\n",
    "                temp = abs(x-cluster_points[i])\n",
    "                if temp < min_val:\n",
    "                    min_val = temp\n",
    "                    cluster_id = i\n",
    "\n",
    "        clusters[cluster_id].append(x)\n",
    "\n",
    "    cluster_points = avg(cluster_points, clusters)\n",
    "\n",
    "\n",
    "\n",
    "# print(clusters)"
   ]
  },
  {
   "cell_type": "code",
   "execution_count": 173,
   "metadata": {},
   "outputs": [
    {
     "name": "stdout",
     "output_type": "stream",
     "text": [
      "200\n"
     ]
    },
    {
     "data": {
      "text/plain": [
       "[<matplotlib.lines.Line2D at 0x7fd9871815e0>]"
      ]
     },
     "execution_count": 173,
     "metadata": {},
     "output_type": "execute_result"
    },
    {
     "data": {
      "image/png": "[encoded data removed]",
      "text/plain": [
       "<Figure size 432x288 with 1 Axes>"
      ]
     },
     "metadata": {
      "needs_background": "light"
     },
     "output_type": "display_data"
    }
   ],
   "source": [
    "print(len(clusters[0]))\n",
    "plt.plot(clusters[0], np.zeros(len(clusters[0])), 'o')\n",
    "plt.plot(clusters[1], np.zeros(len(clusters[1])), 'o')\n",
    "plt.plot(clusters[2], np.zeros(len(clusters[2])), 'o')"
   ]
  }
 ],
 "metadata": {
  "interpreter": {
   "hash": "916dbcbb3f70747c44a77c7bcd40155683ae19c65e1c03b4aa3499c5328201f1"
  },
  "kernelspec": {
   "display_name": "Python 3.8.10 64-bit",
   "language": "python",
   "name": "python3"
  },
  "language_info": {
   "codemirror_mode": {
    "name": "ipython",
    "version": 3
   },
   "file_extension": ".py",
   "mimetype": "text/x-python",
   "name": "python",
   "nbconvert_exporter": "python",
   "pygments_lexer": "ipython3",
   "version": "3.8.10"
  },
  "orig_nbformat": 4
 },
 "nbformat": 4,
 "nbformat_minor": 2
}
