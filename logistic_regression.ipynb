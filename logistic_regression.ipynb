{
 "cells": [
  {
   "cell_type": "markdown",
   "metadata": {},
   "source": [
    "# Logistic Regression"
   ]
  },
  {
   "cell_type": "code",
   "execution_count": null,
   "metadata": {},
   "outputs": [],
   "source": []
  },
  {
   "cell_type": "code",
   "execution_count": 27,
   "metadata": {},
   "outputs": [],
   "source": [
    "import numpy as np\n",
    "import matplotlib.pyplot as plt\n",
    "import math\n",
    "from mpl_toolkits.mplot3d import Axes3D\n",
    "from decimal import *"
   ]
  },
  {
   "cell_type": "code",
   "execution_count": 47,
   "metadata": {},
   "outputs": [],
   "source": [
    "getcontext().prec = 100"
   ]
  },
  {
   "cell_type": "code",
   "execution_count": 50,
   "metadata": {},
   "outputs": [
    {
     "name": "stdout",
     "output_type": "stream",
     "text": [
      "[ 3.02561391  1.30818445  2.1925219   2.51702688 -0.27445749  2.95803726\n",
      "  2.96746039  0.3148752   4.07254762  1.41656536  2.97883284  2.75777438\n",
      "  2.3552026   2.21126899 -1.97443077  3.19082282  1.52930998  2.37188789\n",
      "  2.17425585  2.292442    7.82712825  6.89313803  7.58920848  6.15918187\n",
      "  5.55658806  6.60246105  9.7137077   8.09093708  5.87576313  9.17264359\n",
      "  9.87623667  9.81433329  5.32236132  5.59412762  7.64157187  6.4250623\n",
      "  8.62748162  8.36059198  9.06110539  7.61092191]\n",
      "[0, 0, 0, 0, 0, 0, 0, 0, 0, 0, 0, 0, 0, 0, 0, 0, 0, 0, 0, 0, 1, 1, 1, 1, 1, 1, 1, 1, 1, 1, 1, 1, 1, 1, 1, 1, 1, 1, 1, 1]\n"
     ]
    }
   ],
   "source": [
    "weight = np.random.normal(2, 1.5, (20,))\n",
    "weight = np.append(weight, np.random.normal(8, 1.5, (20,)))\n",
    "\n",
    "is_obese = []\n",
    "for i in range(len(weight)):\n",
    "    if i < len(weight)/2:\n",
    "        is_obese.append(0)\n",
    "    else:\n",
    "        is_obese.append(1)\n",
    "\n",
    "print(weight)\n",
    "print(is_obese)"
   ]
  },
  {
   "cell_type": "code",
   "execution_count": 74,
   "metadata": {},
   "outputs": [],
   "source": [
    "def sigmoid(x, b0=1, b1=1):\n",
    "    value = 1/(1+np.exp(-(b0+b1*x)))\n",
    "\n",
    "    return value"
   ]
  },
  {
   "cell_type": "code",
   "execution_count": 82,
   "metadata": {},
   "outputs": [
    {
     "name": "stdout",
     "output_type": "stream",
     "text": [
      "1.0\n"
     ]
    },
    {
     "data": {
      "image/png": "[encoded data removed]",
      "text/plain": [
       "<Figure size 432x288 with 1 Axes>"
      ]
     },
     "metadata": {
      "needs_background": "light"
     },
     "output_type": "display_data"
    }
   ],
   "source": [
    "plt.plot(weight, is_obese, 'o')\n",
    "\n",
    "# plt.plot(np.sort(weight), np.sort(sigmoid(np.array(weight), -20, 5)))\n",
    "\n",
    "sigmoid_x = np.arange(-2,10,0.1)\n",
    "plt.plot(sigmoid_x, sigmoid(sigmoid_x, -4.67, 1))\n",
    "print(sigmoid(50))"
   ]
  },
  {
   "cell_type": "code",
   "execution_count": 91,
   "metadata": {},
   "outputs": [],
   "source": [
    "def loss_function(label, predicted):\n",
    "    loss = 0\n",
    "\n",
    "    for l in label:\n",
    "        for p in predicted:\n",
    "\n",
    "            # ????\n",
    "            if p == 1: p = 0.999999999999999\n",
    "\n",
    "            loss += -l * math.log(p)-(1-l) * math.log(1-p)\n",
    "\n",
    "    return loss"
   ]
  },
  {
   "cell_type": "code",
   "execution_count": 70,
   "metadata": {},
   "outputs": [
    {
     "name": "stdout",
     "output_type": "stream",
     "text": [
      "2415.4435480980746\n"
     ]
    }
   ],
   "source": [
    "loss_value = loss_function(is_obese, sigmoid(weight, -5, 1))\n",
    "print(loss_value)"
   ]
  },
  {
   "cell_type": "code",
   "execution_count": 94,
   "metadata": {},
   "outputs": [
    {
     "name": "stdout",
     "output_type": "stream",
     "text": [
      "min_value=2408.5849976535733, B0=-4.6767676767676765, B1=1.0\n"
     ]
    }
   ],
   "source": [
    "first_step=True\n",
    "B0 = 0\n",
    "B1 = 0\n",
    "for b0 in np.linspace(-5, -1, 100):\n",
    "    for b1 in np.linspace(1, 50, 100):\n",
    "        if first_step:\n",
    "            min_value = loss_function(is_obese, sigmoid(weight, b0, b1))\n",
    "            first_step=False\n",
    "            \n",
    "        current_loss = loss_function(is_obese, sigmoid(weight, b0, b1))\n",
    "\n",
    "        if current_loss < min_value:\n",
    "            min_value = current_loss\n",
    "            B0 = b0\n",
    "            B1 = b1\n",
    "\n",
    "print(f'{min_value=}, {B0=}, {B1=}')"
   ]
  },
  {
   "cell_type": "code",
   "execution_count": 95,
   "metadata": {},
   "outputs": [
    {
     "name": "stdout",
     "output_type": "stream",
     "text": [
      "1.0\n"
     ]
    },
    {
     "data": {
      "image/png": "[encoded data removed]",
      "text/plain": [
       "<Figure size 432x288 with 1 Axes>"
      ]
     },
     "metadata": {
      "needs_background": "light"
     },
     "output_type": "display_data"
    }
   ],
   "source": [
    "plt.plot(weight, is_obese, 'o')\n",
    "\n",
    "# plt.plot(np.sort(weight), np.sort(sigmoid(np.array(weight), -20, 5)))\n",
    "\n",
    "sigmoid_x = np.arange(-2,10,0.1)\n",
    "plt.plot(sigmoid_x, sigmoid(sigmoid_x, B0, B1))\n",
    "print(sigmoid(50))"
   ]
  }
 ],
 "metadata": {
  "interpreter": {
   "hash": "916dbcbb3f70747c44a77c7bcd40155683ae19c65e1c03b4aa3499c5328201f1"
  },
  "kernelspec": {
   "display_name": "Python 3.8.10 64-bit",
   "language": "python",
   "name": "python3"
  },
  "language_info": {
   "codemirror_mode": {
    "name": "ipython",
    "version": 3
   },
   "file_extension": ".py",
   "mimetype": "text/x-python",
   "name": "python",
   "nbconvert_exporter": "python",
   "pygments_lexer": "ipython3",
   "version": "3.9.7"
  },
  "orig_nbformat": 4
 },
 "nbformat": 4,
 "nbformat_minor": 2
}
